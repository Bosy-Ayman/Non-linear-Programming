{
  "nbformat": 4,
  "nbformat_minor": 0,
  "metadata": {
    "colab": {
      "provenance": []
    },
    "kernelspec": {
      "name": "python3",
      "display_name": "Python 3"
    },
    "language_info": {
      "name": "python"
    }
  },
  "cells": [
    {
      "cell_type": "markdown",
      "source": [
        "# Revised Simplex (Regular)"
      ],
      "metadata": {
        "id": "g9lu-EBaUFd8"
      }
    },
    {
      "cell_type": "code",
      "source": [
        "import numpy as np\n",
        "\n",
        "class RevisedSimplex:\n",
        "    def __init__(self, objective_coeffs, constraint_matrix, constraint_rhs):\n",
        "        self.objective_coeffs = np.array(objective_coeffs, dtype=float)\n",
        "        self.constraint_matrix = np.array(constraint_matrix, dtype=float)\n",
        "        self.constraint_rhs = np.array(constraint_rhs, dtype=float)\n",
        "        self.num_constraints, self.num_variables = self.constraint_matrix.shape\n",
        "        self.tableau= np.hstack((self.constraint_matrix, np.eye(self.num_constraints)))\n",
        "        self.objective_coeffs= np.concatenate((self.objective_coeffs, np.zeros(self.num_constraints)))\n",
        "        self.basic_vars =np.arange(self.num_variables, self.num_variables + self.num_constraints)\n",
        "        self.nonbasic_vars=np.arange(self.num_variables)\n",
        "        self.basis_inverse = np.eye(self.num_constraints)\n",
        "        self.objective_value = 0\n",
        "\n",
        "    def solve(self):\n",
        "        while True:\n",
        "            basic_coeffs = self.objective_coeffs[self.basic_vars]\n",
        "            basis_matrix = self.tableau[:, self.basic_vars]\n",
        "            basis_inverse= np.linalg.inv(basis_matrix)\n",
        "            basic_solution=basis_inverse @ self.constraint_rhs\n",
        "            reduced_cost_matrix = basis_inverse @ self.tableau[:, self.nonbasic_vars]\n",
        "            reduced_costs = self.objective_coeffs[self.nonbasic_vars] - basic_coeffs.T @ reduced_cost_matrix\n",
        "            if np.all(reduced_costs >= 0):\n",
        "                self.objective_value = basic_coeffs.T @ basic_solution\n",
        "                return self.objective_value\n",
        "            entering_idx = np.argmin(reduced_costs)\n",
        "            entering_var = self.nonbasic_vars[entering_idx]\n",
        "            direction = basis_inverse @ self.tableau[:, entering_var]\n",
        "            ratios = np.divide(basic_solution, direction, out=np.full_like(basic_solution, np.inf), where=direction > 0)\n",
        "            if np.all(ratios == np.inf):\n",
        "                return \"Unbounded\"\n",
        "            leaving_idx=np.argmin(ratios)\n",
        "            leaving_var=self.basic_vars[leaving_idx]\n",
        "            self.basic_vars[leaving_idx]=entering_var\n",
        "            self.nonbasic_vars[entering_idx]=leaving_var\n",
        "            direction[leaving_idx]=1\n",
        "            self.basis_inverse = basis_inverse - np.outer(basis_inverse[:, leaving_idx], direction) / direction[leaving_idx]\n",
        "\n"
      ],
      "metadata": {
        "id": "lTmsYLONPqwy"
      },
      "execution_count": 112,
      "outputs": []
    },
    {
      "cell_type": "markdown",
      "source": [
        "# Test cases"
      ],
      "metadata": {
        "id": "xCBm6LQjPuas"
      }
    },
    {
      "cell_type": "code",
      "source": [
        "from scipy.optimize import linprog"
      ],
      "metadata": {
        "id": "qp95zVtCPxL5"
      },
      "execution_count": 113,
      "outputs": []
    },
    {
      "cell_type": "code",
      "source": [
        "#Test 1\n",
        "rev = RevisedSimplex(np.array([-9,-7]),np.array([[10,5],[6,6],[4.5,18]]),np.array([50,36,81]))\n",
        "print('Test 1 From Scratch:',-1*rev.solve())\n",
        "print()\n",
        "#Built in\n",
        "objective_coefficients =[-9,-7]\n",
        "constraint_matrix = [\n",
        "   [10,5],[6,6],[4.5,18]\n",
        "]\n",
        "constraint_rhs =[50,36,81]\n",
        "variable_bounds = [(0, None), (0, None)]\n",
        "\n",
        "result = linprog(objective_coefficients, A_ub=constraint_matrix, b_ub=constraint_rhs, bounds=variable_bounds, method=\"revised simplex\")\n",
        "\n",
        "print('Test 1 Built in',result)"
      ],
      "metadata": {
        "id": "3LoC5ey3PxVm",
        "colab": {
          "base_uri": "https://localhost:8080/"
        },
        "outputId": "ff304dc2-f41d-46c3-8039-2a2a551f420f"
      },
      "execution_count": 114,
      "outputs": [
        {
          "output_type": "stream",
          "name": "stdout",
          "text": [
            "Test 1 From Scratch: 49.999999999999986\n",
            "\n",
            "Test 1 Built in  message: Optimization terminated successfully.\n",
            " success: True\n",
            "  status: 0\n",
            "     fun: -50.0\n",
            "       x: [ 4.000e+00  2.000e+00]\n",
            "     nit: 2\n"
          ]
        },
        {
          "output_type": "stream",
          "name": "stderr",
          "text": [
            "<ipython-input-114-4a56ae5c40ba>:13: DeprecationWarning: `method='revised simplex'` is deprecated and will be removed in SciPy 1.11.0. Please use one of the HiGHS solvers (e.g. `method='highs'`) in new code.\n",
            "  result = linprog(objective_coefficients, A_ub=constraint_matrix, b_ub=constraint_rhs, bounds=variable_bounds, method=\"revised simplex\")\n"
          ]
        }
      ]
    },
    {
      "cell_type": "code",
      "source": [
        "#TEST 2\n",
        "rev = RevisedSimplex(np.array([-5,-4]),np.array([[6,4],[1,2],[-1,1],[0,1]]),np.array([24,6,1,2]))\n",
        "print('Test 2 From Scratch:',-1*rev.solve())\n"
      ],
      "metadata": {
        "id": "TGPbGj7zP1O-",
        "colab": {
          "base_uri": "https://localhost:8080/"
        },
        "outputId": "ec2799c5-c0a4-4875-affd-c1bcbe728dab"
      },
      "execution_count": 115,
      "outputs": [
        {
          "output_type": "stream",
          "name": "stdout",
          "text": [
            "Test 2 From Scratch: 20.999999999999996\n"
          ]
        }
      ]
    },
    {
      "cell_type": "code",
      "source": [
        "#Built in\n",
        "objective_coefficients =[-5,-4]\n",
        "constraint_matrix = [\n",
        "   [6,4],[1,2],[-1,1],[0,1]\n",
        "]\n",
        "constraint_rhs =[24,6,1,2]\n",
        "variable_bounds = [(0, None), (0, None)]\n",
        "\n",
        "result = linprog(objective_coefficients, A_ub=constraint_matrix, b_ub=constraint_rhs, bounds=variable_bounds, method=\"revised simplex\")\n",
        "\n",
        "print('Test 1 Built in',result)"
      ],
      "metadata": {
        "id": "zFyV1ibnP3Ak",
        "colab": {
          "base_uri": "https://localhost:8080/"
        },
        "outputId": "c57a6990-4f99-4718-dae7-c6c454287fea"
      },
      "execution_count": 116,
      "outputs": [
        {
          "output_type": "stream",
          "name": "stdout",
          "text": [
            "Test 1 Built in  message: Optimization terminated successfully.\n",
            " success: True\n",
            "  status: 0\n",
            "     fun: -21.0\n",
            "       x: [ 3.000e+00  1.500e+00]\n",
            "     nit: 2\n"
          ]
        },
        {
          "output_type": "stream",
          "name": "stderr",
          "text": [
            "<ipython-input-116-fab6b88dae00>:9: DeprecationWarning: `method='revised simplex'` is deprecated and will be removed in SciPy 1.11.0. Please use one of the HiGHS solvers (e.g. `method='highs'`) in new code.\n",
            "  result = linprog(objective_coefficients, A_ub=constraint_matrix, b_ub=constraint_rhs, bounds=variable_bounds, method=\"revised simplex\")\n"
          ]
        }
      ]
    },
    {
      "cell_type": "code",
      "source": [
        "#Test 3\n",
        "rev = RevisedSimplex(np.array([-3, -2]),np.array([[4, -1],[4, 3],[4, 1]]),np.array([8, 12, 8]))\n",
        "print('Test 3 :',-1*rev.solve())\n"
      ],
      "metadata": {
        "id": "gnklHcEXP4Ks",
        "colab": {
          "base_uri": "https://localhost:8080/"
        },
        "outputId": "8da3046a-8913-4837-bd71-44330fdb42ef"
      },
      "execution_count": 117,
      "outputs": [
        {
          "output_type": "stream",
          "name": "stdout",
          "text": [
            "Test 3 : 8.5\n"
          ]
        }
      ]
    },
    {
      "cell_type": "code",
      "source": [
        "#Built in\n",
        "objective_coefficients =[-3, -2]\n",
        "constraint_matrix = [\n",
        "   [4, -1],[4, 3],[4, 1]\n",
        "]\n",
        "constraint_rhs =[8, 12, 8]\n",
        "variable_bounds = [(0, None), (0, None)]\n",
        "\n",
        "result = linprog(objective_coefficients, A_ub=constraint_matrix, b_ub=constraint_rhs, bounds=variable_bounds, method=\"revised simplex\")\n",
        "\n",
        "print('Test 3 Built in',result)"
      ],
      "metadata": {
        "id": "DevfMXyqP4u-",
        "colab": {
          "base_uri": "https://localhost:8080/"
        },
        "outputId": "81867882-2a51-4f18-ae5e-a03b201d2eea"
      },
      "execution_count": 118,
      "outputs": [
        {
          "output_type": "stream",
          "name": "stdout",
          "text": [
            "Test 3 Built in  message: Optimization terminated successfully.\n",
            " success: True\n",
            "  status: 0\n",
            "     fun: -8.5\n",
            "       x: [ 1.500e+00  2.000e+00]\n",
            "     nit: 3\n"
          ]
        },
        {
          "output_type": "stream",
          "name": "stderr",
          "text": [
            "<ipython-input-118-baa099bd1162>:9: DeprecationWarning: `method='revised simplex'` is deprecated and will be removed in SciPy 1.11.0. Please use one of the HiGHS solvers (e.g. `method='highs'`) in new code.\n",
            "  result = linprog(objective_coefficients, A_ub=constraint_matrix, b_ub=constraint_rhs, bounds=variable_bounds, method=\"revised simplex\")\n"
          ]
        }
      ]
    },
    {
      "cell_type": "code",
      "source": [
        "#Test 4\n",
        "rev = RevisedSimplex(np.array([4,1]),np.array([[3, 1],[-4, -3],[1,2]]),np.array([3,-6,4]))\n",
        "print('Test 4 :',-1*rev.solve())\n"
      ],
      "metadata": {
        "colab": {
          "base_uri": "https://localhost:8080/"
        },
        "id": "R9EKZ7YbQX1a",
        "outputId": "f9f006ab-f388-49f5-fdac-655db5332dcc"
      },
      "execution_count": 119,
      "outputs": [
        {
          "output_type": "stream",
          "name": "stdout",
          "text": [
            "Test 4 : -0.0\n"
          ]
        }
      ]
    },
    {
      "cell_type": "code",
      "source": [
        "#Built in\n",
        "objective_coefficients =[4,1]\n",
        "constraint_matrix = [\n",
        "[3, 1],[-4, -3],[1,2]\n",
        "                      ]\n",
        "constraint_rhs =[3,-6,4]\n",
        "variable_bounds = [(0, None), (0, None)]\n",
        "\n",
        "result = linprog(objective_coefficients, A_ub=constraint_matrix, b_ub=constraint_rhs, bounds=variable_bounds, method=\"revised simplex\")\n",
        "\n",
        "print('Test 4 Built in',result)"
      ],
      "metadata": {
        "colab": {
          "base_uri": "https://localhost:8080/"
        },
        "id": "NAucX9RKQaD8",
        "outputId": "81ea5243-bc6a-4987-f9c9-b4da3ce91eae"
      },
      "execution_count": 120,
      "outputs": [
        {
          "output_type": "stream",
          "name": "stdout",
          "text": [
            "Test 4 Built in  message: Optimization terminated successfully.\n",
            " success: True\n",
            "  status: 0\n",
            "     fun: 2.0\n",
            "       x: [ 0.000e+00  2.000e+00]\n",
            "     nit: 3\n"
          ]
        },
        {
          "output_type": "stream",
          "name": "stderr",
          "text": [
            "<ipython-input-120-e46972a025d5>:9: DeprecationWarning: `method='revised simplex'` is deprecated and will be removed in SciPy 1.11.0. Please use one of the HiGHS solvers (e.g. `method='highs'`) in new code.\n",
            "  result = linprog(objective_coefficients, A_ub=constraint_matrix, b_ub=constraint_rhs, bounds=variable_bounds, method=\"revised simplex\")\n"
          ]
        }
      ]
    },
    {
      "cell_type": "code",
      "source": [
        "#Test 4\n",
        "rev = RevisedSimplex(np.array([-3,-9]),np.array([[1, 4],[1, 2]]),np.array([8,4]))\n",
        "print('Test 4 :',-1*rev.solve())\n"
      ],
      "metadata": {
        "colab": {
          "base_uri": "https://localhost:8080/"
        },
        "id": "COsVHafLQf5o",
        "outputId": "bb437256-be5c-439d-8092-79f4bdebd6af"
      },
      "execution_count": 121,
      "outputs": [
        {
          "output_type": "stream",
          "name": "stdout",
          "text": [
            "Test 4 : 18.0\n"
          ]
        }
      ]
    },
    {
      "cell_type": "code",
      "source": [
        "#Built in\n",
        "objective_coefficients = [-3,-9]\n",
        "constraint_matrix = [\n",
        "[1, 4],[1, 2]\n",
        "                      ]\n",
        "constraint_rhs =[8,4]\n",
        "variable_bounds = [(0, None), (0, None)]\n",
        "\n",
        "result = linprog(objective_coefficients, A_ub=constraint_matrix, b_ub=constraint_rhs, bounds=variable_bounds, method=\"revised simplex\")\n",
        "\n",
        "print('Test 4 Built in',result)"
      ],
      "metadata": {
        "colab": {
          "base_uri": "https://localhost:8080/"
        },
        "id": "asD0QqufQh_1",
        "outputId": "1c65da6b-2728-430c-c706-8359d48f4ac6"
      },
      "execution_count": 122,
      "outputs": [
        {
          "output_type": "stream",
          "name": "stdout",
          "text": [
            "Test 4 Built in  message: Optimization terminated successfully.\n",
            " success: True\n",
            "  status: 0\n",
            "     fun: -18.0\n",
            "       x: [ 0.000e+00  2.000e+00]\n",
            "     nit: 2\n"
          ]
        },
        {
          "output_type": "stream",
          "name": "stderr",
          "text": [
            "<ipython-input-122-4137baaedaae>:9: DeprecationWarning: `method='revised simplex'` is deprecated and will be removed in SciPy 1.11.0. Please use one of the HiGHS solvers (e.g. `method='highs'`) in new code.\n",
            "  result = linprog(objective_coefficients, A_ub=constraint_matrix, b_ub=constraint_rhs, bounds=variable_bounds, method=\"revised simplex\")\n"
          ]
        }
      ]
    },
    {
      "cell_type": "markdown",
      "source": [
        "# Two phases Revised Simplex"
      ],
      "metadata": {
        "id": "3B_-V36IQi0_"
      }
    },
    {
      "cell_type": "markdown",
      "source": [],
      "metadata": {
        "id": "7IcuGJ-JUEEd"
      }
    },
    {
      "cell_type": "code",
      "source": [
        "import numpy as np\n",
        "\n",
        "class RevisedSimplex:\n",
        "    def __init__(self, objective_coeffs, constraint_matrix, constraint_rhs):\n",
        "        self.original_objective_coeffs = np.array(objective_coeffs, dtype=float)\n",
        "        self.constraint_matrix = np.array(constraint_matrix, dtype=float)\n",
        "        self.constraint_rhs = np.array(constraint_rhs, dtype=float)\n",
        "        self.num_constraints, self.num_variables = self.constraint_matrix.shape\n",
        "        self.tableau = np.hstack((self.constraint_matrix, np.eye(self.num_constraints)))\n",
        "        self.objective_coeffs = np.concatenate((self.original_objective_coeffs, np.zeros(self.num_constraints)))\n",
        "        self.basic_vars = np.arange(self.num_variables, self.num_variables + self.num_constraints)\n",
        "        self.nonbasic_vars = np.arange(self.num_variables)\n",
        "        self.basis_inverse = np.eye(self.num_constraints)\n",
        "        self.phase1 = False\n",
        "\n",
        "    def solve(self):\n",
        "        if np.any(self.constraint_rhs < 0):\n",
        "            print(\"Phase 1 initiated: infeasible initial solution detected.\")\n",
        "            if not self.perform_phase1():\n",
        "                return \"Infeasible problem\"\n",
        "        print(\"Starting Phase 2: Optimizing original objective function.\")\n",
        "        self.objective_coeffs = np.concatenate((self.original_objective_coeffs, np.zeros(self.num_constraints)))\n",
        "        return self.phase2_optimize()\n",
        "\n",
        "    def perform_phase1(self):\n",
        "        artificial_objective = np.zeros_like(self.tableau[0])\n",
        "        artificial_objective[-self.num_constraints:] = 1\n",
        "        artificial_vars = np.arange(self.num_variables + self.num_constraints,\n",
        "                                    self.num_variables + 2 * self.num_constraints)\n",
        "        self.tableau = np.hstack((self.tableau, np.eye(self.num_constraints)))\n",
        "        phase1_obj_coeffs = np.concatenate((np.zeros(self.num_variables + self.num_constraints), np.ones(self.num_constraints)))\n",
        "        return self.simplex_step(phase1_obj_coeffs, artificial_vars, True)\n",
        "\n",
        "    def phase2_optimize(self):\n",
        "        return self.simplex_step(self.objective_coeffs, self.nonbasic_vars, False)\n",
        "\n",
        "    def simplex_step(self, obj_coeffs, nonbasic_vars, is_phase1):\n",
        "        while True:\n",
        "            basic_coeffs = obj_coeffs[self.basic_vars]\n",
        "            basis_matrix = self.tableau[:, self.basic_vars]\n",
        "            self.basis_inverse = np.linalg.inv(basis_matrix)\n",
        "            basic_solution = self.basis_inverse @ self.constraint_rhs\n",
        "            reduced_cost_matrix = self.basis_inverse @ self.tableau[:, nonbasic_vars]\n",
        "            reduced_costs = obj_coeffs[nonbasic_vars] - basic_coeffs.T @ reduced_cost_matrix\n",
        "\n",
        "            # Check optimality\n",
        "            if np.all(reduced_costs >= 0):\n",
        "                if is_phase1 and np.any(basic_solution[-self.num_constraints:] > 0):\n",
        "                    return False\n",
        "                elif is_phase1:\n",
        "\n",
        "                    self.phase1 = True\n",
        "                    return True\n",
        "                else:\n",
        "                    self.objective_value = basic_coeffs.T @ basic_solution\n",
        "                    return self.objective_value\n",
        "            entering_idx = np.argmin(reduced_costs)\n",
        "            entering_var = nonbasic_vars[entering_idx]\n",
        "            direction = self.basis_inverse @ self.tableau[:, entering_var]\n",
        "            ratios = np.divide(basic_solution, direction, out=np.full_like(basic_solution, np.inf), where=direction > 0)\n",
        "            if np.all(ratios == np.inf):\n",
        "                return \"Unbounded\"\n",
        "            leaving_idx = np.argmin(ratios)\n",
        "            leaving_var = self.basic_vars[leaving_idx]\n",
        "            self.basic_vars[leaving_idx] = entering_var\n",
        "            nonbasic_vars[entering_idx] = leaving_var\n",
        "            direction[leaving_idx] = 1\n",
        "            self.basis_inverse = self.basis_inverse - np.outer(self.basis_inverse[:, leaving_idx], direction) / direction[leaving_idx]\n"
      ],
      "metadata": {
        "id": "BdRLWYj0QmOi"
      },
      "execution_count": 123,
      "outputs": []
    },
    {
      "cell_type": "code",
      "source": [
        "#Test 1\n",
        "rev = RevisedSimplex(np.array([-9,-7]),np.array([[10,5],[6,6],[4.5,18]]),np.array([50,36,81]))\n",
        "print('Test 1 From Scratch:',-1*rev.solve())\n",
        "print()"
      ],
      "metadata": {
        "colab": {
          "base_uri": "https://localhost:8080/"
        },
        "id": "KdtalHV8Q3lU",
        "outputId": "3bac7a1e-3d12-4305-b258-6cb5df1e8769"
      },
      "execution_count": 124,
      "outputs": [
        {
          "output_type": "stream",
          "name": "stdout",
          "text": [
            "Starting Phase 2: Optimizing original objective function.\n",
            "Test 1 From Scratch: 49.999999999999986\n",
            "\n"
          ]
        }
      ]
    },
    {
      "cell_type": "markdown",
      "source": [
        "Traced coding example"
      ],
      "metadata": {
        "id": "-ZPJHjWXQT3h"
      }
    },
    {
      "cell_type": "markdown",
      "source": [
        "# Example\n",
        "![image.png](data:image/png;base64,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)"
      ],
      "metadata": {
        "id": "jh1zZkkNQoOl"
      }
    },
    {
      "cell_type": "code",
      "source": [
        "import numpy as np\n",
        "import sys\n",
        "c = np.array([1, 1])\n",
        "\n",
        "\n",
        "A = np.array([\n",
        "    [1, 2],\n",
        "    [4, 1]\n",
        "])\n",
        "b = np.array([7, 6])\n",
        "\n",
        "c_reshaped = c.reshape(1, -1)"
      ],
      "metadata": {
        "id": "qdSLk8iIBo5I"
      },
      "execution_count": 125,
      "outputs": []
    },
    {
      "cell_type": "code",
      "source": [
        "m, n = A.shape\n",
        "print(\"m is \",m)\n",
        "print(\"n is \",n)\n",
        "if n >= m :\n",
        "    print(\"Assumptions satisfied\")\n",
        "else:\n",
        "    print(\"Assumptions unsatisfied, please check your parameters\")\n",
        "    sys.exit()"
      ],
      "metadata": {
        "colab": {
          "base_uri": "https://localhost:8080/"
        },
        "id": "KVPvYXOl1Ymk",
        "outputId": "d4f87e2f-eec4-42d2-9397-44ed1c90bde4"
      },
      "execution_count": 126,
      "outputs": [
        {
          "output_type": "stream",
          "name": "stdout",
          "text": [
            "m is  2\n",
            "n is  2\n",
            "Assumptions satisfied\n"
          ]
        }
      ]
    },
    {
      "cell_type": "code",
      "source": [
        "# Table Formation\n",
        "\n",
        "A_new = np.concatenate((c_reshaped,A), axis=0)\n",
        "\n",
        "A_new_all = np.concatenate((A,-1*np.eye(m),np.eye(m)),axis=1)\n",
        "A_new_all\n",
        "\n",
        "# use w = A1 + A2 to calculate the z row\n",
        "w = np.concatenate((np.full(n,0),np.full(m,0),np.full(2,1)))\n",
        "z = w-np.add(A_new_all[0],A_new_all[1])\n",
        "A_new_all = np.concatenate(( z.reshape(1, -1),A_new_all),axis=0)\n",
        "\n",
        "#calculate the obj function row\n",
        "F = np.concatenate((c, np.full(m, 0),np.full(m,0)))\n",
        "A_new_all =np.concatenate(( F.reshape(1, -1),A_new_all),axis=0)\n",
        "A_new_all\n",
        "\n",
        "\n",
        "cw = np.concatenate((np.full(1,0), np.full(1,1), np.full(m,0))).reshape(-1, 1)\n",
        "cf = np.concatenate((np.full(1,1), np.full(1,0), np.full(m,0))).reshape(-1, 1)\n",
        "A_new_all = np.concatenate((A_new_all,cw),axis=1)\n",
        "A_new_all = np.concatenate((cf, A_new_all),axis=1)\n",
        "A_new_all"
      ],
      "metadata": {
        "colab": {
          "base_uri": "https://localhost:8080/"
        },
        "id": "sBchhLRChYN_",
        "outputId": "9d1bb230-731a-45a7-bf3b-6e9f7aa8dc6d"
      },
      "execution_count": 127,
      "outputs": [
        {
          "output_type": "execute_result",
          "data": {
            "text/plain": [
              "array([[ 1.,  1.,  1.,  0.,  0.,  0.,  0.,  0.],\n",
              "       [ 0., -5., -3.,  1.,  1.,  0.,  0.,  1.],\n",
              "       [ 0.,  1.,  2., -1., -0.,  1.,  0.,  0.],\n",
              "       [ 0.,  4.,  1., -0., -1.,  0.,  1.,  0.]])"
            ]
          },
          "metadata": {},
          "execution_count": 127
        }
      ]
    },
    {
      "cell_type": "code",
      "source": [
        "# the z row RHS\n",
        "b = np.array([7, 6])\n",
        "w_sol = -b[0]-b[1]\n",
        "b = np.insert(b, 0, 0)\n",
        "b = np.insert(b, 1,w_sol)\n",
        "b\n",
        "b = b.astype(float)"
      ],
      "metadata": {
        "id": "vmcodGPcZPiN"
      },
      "execution_count": 128,
      "outputs": []
    },
    {
      "cell_type": "code",
      "source": [
        "# extract the non basic variables from the table\n",
        "nonBASIC = A_new_all[:,[1,2,3,4]]\n",
        "nonBASIC"
      ],
      "metadata": {
        "colab": {
          "base_uri": "https://localhost:8080/"
        },
        "id": "sJbB6ZpjXY0O",
        "outputId": "d6868a20-139a-4a29-f194-44003878f080"
      },
      "execution_count": 129,
      "outputs": [
        {
          "output_type": "execute_result",
          "data": {
            "text/plain": [
              "array([[ 1.,  1.,  0.,  0.],\n",
              "       [-5., -3.,  1.,  1.],\n",
              "       [ 1.,  2., -1., -0.],\n",
              "       [ 4.,  1., -0., -1.]])"
            ]
          },
          "metadata": {},
          "execution_count": 129
        }
      ]
    },
    {
      "cell_type": "code",
      "source": [
        "# extract the basic variables\n",
        "B = A_new_all[:,[0,7,5,6]]\n",
        "B"
      ],
      "metadata": {
        "colab": {
          "base_uri": "https://localhost:8080/"
        },
        "id": "RNrZWioRKqVy",
        "outputId": "ef048627-ea32-4bee-99a8-87eeeda13899"
      },
      "execution_count": 130,
      "outputs": [
        {
          "output_type": "execute_result",
          "data": {
            "text/plain": [
              "array([[1., 0., 0., 0.],\n",
              "       [0., 1., 0., 0.],\n",
              "       [0., 0., 1., 0.],\n",
              "       [0., 0., 0., 1.]])"
            ]
          },
          "metadata": {},
          "execution_count": 130
        }
      ]
    },
    {
      "cell_type": "code",
      "source": [
        "# get the B inverse\n",
        "B_inverse = np.linalg.inv(B)\n",
        "B_inverse"
      ],
      "metadata": {
        "colab": {
          "base_uri": "https://localhost:8080/"
        },
        "id": "PQy6wFY8XKfT",
        "outputId": "38058696-0ed1-4ada-db2e-4a33a4c18114"
      },
      "execution_count": 131,
      "outputs": [
        {
          "output_type": "execute_result",
          "data": {
            "text/plain": [
              "array([[1., 0., 0., 0.],\n",
              "       [0., 1., 0., 0.],\n",
              "       [0., 0., 1., 0.],\n",
              "       [0., 0., 0., 1.]])"
            ]
          },
          "metadata": {},
          "execution_count": 131
        }
      ]
    },
    {
      "cell_type": "code",
      "source": [
        "# find the nonbasic variable coressponding to the most negative coeff in the z row(entering variable)\n",
        "result = B_inverse[1, :] @ nonBASIC\n",
        "result"
      ],
      "metadata": {
        "colab": {
          "base_uri": "https://localhost:8080/"
        },
        "id": "tKaWJxkwYZa4",
        "outputId": "619c4f31-629d-41ab-edaf-59bf347debc2"
      },
      "execution_count": 132,
      "outputs": [
        {
          "output_type": "execute_result",
          "data": {
            "text/plain": [
              "array([-5., -3.,  1.,  1.])"
            ]
          },
          "metadata": {},
          "execution_count": 132
        }
      ]
    },
    {
      "cell_type": "code",
      "source": [
        "# get the variable index\n",
        "entering_variable = np.argmin(result)\n",
        "entering_variable"
      ],
      "metadata": {
        "colab": {
          "base_uri": "https://localhost:8080/"
        },
        "id": "v5UZaIrfYxBJ",
        "outputId": "88a0bae0-ba70-434d-f8af-307c16ea3829"
      },
      "execution_count": 133,
      "outputs": [
        {
          "output_type": "execute_result",
          "data": {
            "text/plain": [
              "0"
            ]
          },
          "metadata": {},
          "execution_count": 133
        }
      ]
    },
    {
      "cell_type": "code",
      "source": [
        "# extract its column\n",
        "entering_column = nonBASIC[:, entering_variable]\n",
        "entering_column"
      ],
      "metadata": {
        "colab": {
          "base_uri": "https://localhost:8080/"
        },
        "id": "BbxTcnPMaq-Z",
        "outputId": "bfb2c53a-5412-4585-cc6e-6b7a66d57b70"
      },
      "execution_count": 134,
      "outputs": [
        {
          "output_type": "execute_result",
          "data": {
            "text/plain": [
              "array([ 1., -5.,  1.,  4.])"
            ]
          },
          "metadata": {},
          "execution_count": 134
        }
      ]
    },
    {
      "cell_type": "code",
      "source": [
        "Y1 =  B_inverse @ entering_column  # Result will be a column vector\n",
        "print(Y1)\n",
        "if (Y1 <= 0).all():\n",
        "            print(\"The LP problem is unbounded\")\n",
        "            sys.exit()"
      ],
      "metadata": {
        "colab": {
          "base_uri": "https://localhost:8080/"
        },
        "id": "zfsEnymmY5Qt",
        "outputId": "dec5a11d-9285-4c7b-8248-5a4587a111b9"
      },
      "execution_count": 135,
      "outputs": [
        {
          "output_type": "stream",
          "name": "stdout",
          "text": [
            "[ 1. -5.  1.  4.]\n"
          ]
        }
      ]
    },
    {
      "cell_type": "code",
      "source": [
        "# find the leaving variable corresponding the smallest ratio\n",
        "ratio = np.divide(b[2:], Y1[2:])\n",
        "ratio"
      ],
      "metadata": {
        "colab": {
          "base_uri": "https://localhost:8080/"
        },
        "id": "xNzGyOjUcqco",
        "outputId": "efdf67ef-8ab4-4128-e6e9-8f59254060ee"
      },
      "execution_count": 136,
      "outputs": [
        {
          "output_type": "execute_result",
          "data": {
            "text/plain": [
              "array([7. , 1.5])"
            ]
          },
          "metadata": {},
          "execution_count": 136
        }
      ]
    },
    {
      "cell_type": "code",
      "source": [
        "# get its index\n",
        "leaving_variable = np.argmin(ratio)+2\n",
        "leaving_variable"
      ],
      "metadata": {
        "colab": {
          "base_uri": "https://localhost:8080/"
        },
        "id": "5-VKOrpqiGD7",
        "outputId": "24f92a28-314e-47c8-d98c-1cf6d6792d27"
      },
      "execution_count": 137,
      "outputs": [
        {
          "output_type": "execute_result",
          "data": {
            "text/plain": [
              "3"
            ]
          },
          "metadata": {},
          "execution_count": 137
        }
      ]
    },
    {
      "cell_type": "code",
      "source": [
        "B_inverse_modified = np.delete(B_inverse, 0, axis=1)  # Removing column 1 of B_inverse\n",
        "augmented_matrix = np.column_stack((b, B_inverse_modified, Y1))\n",
        "augmented_matrix"
      ],
      "metadata": {
        "colab": {
          "base_uri": "https://localhost:8080/"
        },
        "id": "WW4XU7mLlgYc",
        "outputId": "6ecc87b0-16f1-49b9-c38c-a3589b3be594"
      },
      "execution_count": 138,
      "outputs": [
        {
          "output_type": "execute_result",
          "data": {
            "text/plain": [
              "array([[  0.,   0.,   0.,   0.,   1.],\n",
              "       [-13.,   1.,   0.,   0.,  -5.],\n",
              "       [  7.,   0.,   1.,   0.,   1.],\n",
              "       [  6.,   0.,   0.,   1.,   4.]])"
            ]
          },
          "metadata": {},
          "execution_count": 138
        }
      ]
    },
    {
      "cell_type": "code",
      "source": [
        "\n",
        "# Step 1: Concatenate b, B_inverse (minus column 1), and entering_column\n",
        "B_inverse_modified = np.delete(B_inverse, 0, axis=1)  # Removing column 1 of B_inverse\n",
        "augmented_matrix = np.column_stack((b, B_inverse_modified, Y1))\n",
        "\n",
        "# Step 2: Perform row operations to make the pivot (index 2) equal to 1\n",
        "pivot_row = leaving_variable  # The row with the pivot element (index 2 corresponds to 3rd row)\n",
        "pivot_value = augmented_matrix[pivot_row, -1]  # The pivot value in the last column\n",
        "\n",
        "# Normalize the pivot row to make the pivot equal to 1\n",
        "augmented_matrix[pivot_row, :] /= pivot_value\n",
        "\n",
        "# Step 3: Make all other elements in the pivot column (last column) equal to 0\n",
        "for row in range(2+m):  # Go through all rows (including the pivot row itself)\n",
        "    if row != pivot_row:\n",
        "        factor = augmented_matrix[row, -1]\n",
        "        augmented_matrix[row, :] -= factor * augmented_matrix[pivot_row, :]\n",
        "\n",
        "# Display the augmented matrix after row operations\n",
        "augmented_matrix"
      ],
      "metadata": {
        "colab": {
          "base_uri": "https://localhost:8080/"
        },
        "id": "JFGRuNC0llfi",
        "outputId": "8af95266-cf7f-45be-f805-69b7bdd1210b"
      },
      "execution_count": 139,
      "outputs": [
        {
          "output_type": "execute_result",
          "data": {
            "text/plain": [
              "array([[-1.5 ,  0.  ,  0.  , -0.25,  0.  ],\n",
              "       [-5.5 ,  1.  ,  0.  ,  1.25,  0.  ],\n",
              "       [ 5.5 ,  0.  ,  1.  , -0.25,  0.  ],\n",
              "       [ 1.5 ,  0.  ,  0.  ,  0.25,  1.  ]])"
            ]
          },
          "metadata": {},
          "execution_count": 139
        }
      ]
    },
    {
      "cell_type": "code",
      "source": [
        "xb = augmented_matrix[:, 0]\n",
        "if (xb[1]==0):\n",
        "  print(\"Phase 1 ended\")\n",
        "\n",
        "else:\n",
        "  print(\"Phase 1 still iterating\")"
      ],
      "metadata": {
        "colab": {
          "base_uri": "https://localhost:8080/"
        },
        "id": "1-c1EuQQ01ai",
        "outputId": "eefbd21e-e3c6-4d98-e615-d76f292d4eae"
      },
      "execution_count": 140,
      "outputs": [
        {
          "output_type": "stream",
          "name": "stdout",
          "text": [
            "Phase 1 still iterating\n"
          ]
        }
      ]
    },
    {
      "cell_type": "code",
      "source": [
        "#####iteratiion 2"
      ],
      "metadata": {
        "id": "-DeYjKJbxeFY"
      },
      "execution_count": 141,
      "outputs": []
    },
    {
      "cell_type": "code",
      "source": [
        "# update B inverse\n",
        "B_inverse[:, 1:4] = augmented_matrix[:, 1:4]\n",
        "\n",
        "B_inverse"
      ],
      "metadata": {
        "colab": {
          "base_uri": "https://localhost:8080/"
        },
        "id": "YM_sGTN9mvCO",
        "outputId": "095e05d1-0d87-41b8-d3da-b7afa62e9dd9"
      },
      "execution_count": 142,
      "outputs": [
        {
          "output_type": "execute_result",
          "data": {
            "text/plain": [
              "array([[ 1.  ,  0.  ,  0.  , -0.25],\n",
              "       [ 0.  ,  1.  ,  0.  ,  1.25],\n",
              "       [ 0.  ,  0.  ,  1.  , -0.25],\n",
              "       [ 0.  ,  0.  ,  0.  ,  0.25]])"
            ]
          },
          "metadata": {},
          "execution_count": 142
        }
      ]
    },
    {
      "cell_type": "code",
      "source": [
        "# update nonBasic\n",
        "nonBASIC[:,0] = augmented_matrix[:, 4]\n",
        "nonBASIC"
      ],
      "metadata": {
        "colab": {
          "base_uri": "https://localhost:8080/"
        },
        "id": "xUlkufnZp_6Q",
        "outputId": "5f7757ed-d404-4065-ec74-75ecf38ae509"
      },
      "execution_count": 143,
      "outputs": [
        {
          "output_type": "execute_result",
          "data": {
            "text/plain": [
              "array([[ 0.,  1.,  0.,  0.],\n",
              "       [ 0., -3.,  1.,  1.],\n",
              "       [ 0.,  2., -1., -0.],\n",
              "       [ 1.,  1., -0., -1.]])"
            ]
          },
          "metadata": {},
          "execution_count": 143
        }
      ]
    },
    {
      "cell_type": "code",
      "source": [
        "augmented_matrix = augmented_matrix[:, :-1]\n",
        "augmented_matrix"
      ],
      "metadata": {
        "colab": {
          "base_uri": "https://localhost:8080/"
        },
        "id": "gH0_TKcP6rOZ",
        "outputId": "be3c8908-041b-403a-f850-0cee7b67cdb7"
      },
      "execution_count": 144,
      "outputs": [
        {
          "output_type": "execute_result",
          "data": {
            "text/plain": [
              "array([[-1.5 ,  0.  ,  0.  , -0.25],\n",
              "       [-5.5 ,  1.  ,  0.  ,  1.25],\n",
              "       [ 5.5 ,  0.  ,  1.  , -0.25],\n",
              "       [ 1.5 ,  0.  ,  0.  ,  0.25]])"
            ]
          },
          "metadata": {},
          "execution_count": 144
        }
      ]
    },
    {
      "cell_type": "code",
      "source": [
        "result1 = B_inverse[1, :] @ nonBASIC\n",
        "result1"
      ],
      "metadata": {
        "colab": {
          "base_uri": "https://localhost:8080/"
        },
        "id": "Z6qi0V0KskeV",
        "outputId": "bec92953-036d-47a1-97b8-2756f0e05cc6"
      },
      "execution_count": 145,
      "outputs": [
        {
          "output_type": "execute_result",
          "data": {
            "text/plain": [
              "array([ 1.25, -1.75,  1.  , -0.25])"
            ]
          },
          "metadata": {},
          "execution_count": 145
        }
      ]
    },
    {
      "cell_type": "code",
      "source": [],
      "metadata": {
        "id": "X4olX1TZ0DHp"
      },
      "execution_count": 145,
      "outputs": []
    },
    {
      "cell_type": "code",
      "source": [
        "entering_variable = np.argmin(result1)\n",
        "entering_variable"
      ],
      "metadata": {
        "colab": {
          "base_uri": "https://localhost:8080/"
        },
        "id": "1rXufxEJwsZy",
        "outputId": "2c61099b-cff8-41b2-aefe-72fbe8b539a7"
      },
      "execution_count": 146,
      "outputs": [
        {
          "output_type": "execute_result",
          "data": {
            "text/plain": [
              "1"
            ]
          },
          "metadata": {},
          "execution_count": 146
        }
      ]
    },
    {
      "cell_type": "code",
      "source": [
        "entering_column = nonBASIC[:, entering_variable]\n",
        "entering_column"
      ],
      "metadata": {
        "colab": {
          "base_uri": "https://localhost:8080/"
        },
        "id": "EmKOD0qUwxDL",
        "outputId": "fd582088-d428-4dd6-efd9-f75117d9d5b9"
      },
      "execution_count": 147,
      "outputs": [
        {
          "output_type": "execute_result",
          "data": {
            "text/plain": [
              "array([ 1., -3.,  2.,  1.])"
            ]
          },
          "metadata": {},
          "execution_count": 147
        }
      ]
    },
    {
      "cell_type": "code",
      "source": [
        "Y1 =  B_inverse @ entering_column  # Result will be a column vector\n",
        "print(Y1)"
      ],
      "metadata": {
        "colab": {
          "base_uri": "https://localhost:8080/"
        },
        "id": "7I1Wk3iyw2lW",
        "outputId": "10a0716c-057c-4e07-920f-fc4e3182860d"
      },
      "execution_count": 148,
      "outputs": [
        {
          "output_type": "stream",
          "name": "stdout",
          "text": [
            "[ 0.75 -1.75  1.75  0.25]\n"
          ]
        }
      ]
    },
    {
      "cell_type": "code",
      "source": [
        "xb = augmented_matrix[:, 0]\n",
        "xb"
      ],
      "metadata": {
        "colab": {
          "base_uri": "https://localhost:8080/"
        },
        "id": "9hSiKCkjw_0y",
        "outputId": "c7857ca9-f530-405f-fe46-5c9742d133c7"
      },
      "execution_count": 149,
      "outputs": [
        {
          "output_type": "execute_result",
          "data": {
            "text/plain": [
              "array([-1.5, -5.5,  5.5,  1.5])"
            ]
          },
          "metadata": {},
          "execution_count": 149
        }
      ]
    },
    {
      "cell_type": "code",
      "source": [
        "ratio = np.divide(xb[2:], Y1[2:])\n",
        "ratio"
      ],
      "metadata": {
        "colab": {
          "base_uri": "https://localhost:8080/"
        },
        "id": "i68c-meRxQ0p",
        "outputId": "88730b78-7214-44db-ae89-eb3a6ef66d34"
      },
      "execution_count": 150,
      "outputs": [
        {
          "output_type": "execute_result",
          "data": {
            "text/plain": [
              "array([3.14285714, 6.        ])"
            ]
          },
          "metadata": {},
          "execution_count": 150
        }
      ]
    },
    {
      "cell_type": "code",
      "source": [
        "# the arg min function handles the special case of Degeneracy as it chooses the nearest index to leave\n",
        "leaving_variable = np.argmin(ratio)+2\n",
        "leaving_variable"
      ],
      "metadata": {
        "colab": {
          "base_uri": "https://localhost:8080/"
        },
        "id": "5l931ZOJxYa1",
        "outputId": "ae7b433f-4ceb-436f-9955-5c026b1d5b62"
      },
      "execution_count": 151,
      "outputs": [
        {
          "output_type": "execute_result",
          "data": {
            "text/plain": [
              "2"
            ]
          },
          "metadata": {},
          "execution_count": 151
        }
      ]
    },
    {
      "cell_type": "code",
      "source": [
        "B_inverse"
      ],
      "metadata": {
        "colab": {
          "base_uri": "https://localhost:8080/"
        },
        "id": "Rlo4Jh0qyJ3e",
        "outputId": "1fc5cb02-8f7c-49b0-831f-01250e142824"
      },
      "execution_count": 152,
      "outputs": [
        {
          "output_type": "execute_result",
          "data": {
            "text/plain": [
              "array([[ 1.  ,  0.  ,  0.  , -0.25],\n",
              "       [ 0.  ,  1.  ,  0.  ,  1.25],\n",
              "       [ 0.  ,  0.  ,  1.  , -0.25],\n",
              "       [ 0.  ,  0.  ,  0.  ,  0.25]])"
            ]
          },
          "metadata": {},
          "execution_count": 152
        }
      ]
    },
    {
      "cell_type": "code",
      "source": [
        "import numpy as np\n",
        "\n",
        "# Given data\n",
        "\n",
        "\n",
        "\n",
        "# Step 1: Concatenate b, B_inverse (minus column 1), and entering_column\n",
        "B_inverse_modified = np.delete(B_inverse, 0, axis=1)  # Removing column 1 of B_inverse\n",
        "augmented_matrix = np.column_stack((xb, B_inverse_modified, Y1))\n",
        "\n",
        "# Step 2: Perform row operations to make the pivot (index 2) equal to 1\n",
        "pivot_row = leaving_variable  # The row with the pivot element (index 2 corresponds to 3rd row)\n",
        "pivot_value = augmented_matrix[pivot_row, -1]  # The pivot value in the last column\n",
        "\n",
        "# Normalize the pivot row to make the pivot equal to 1\n",
        "augmented_matrix[pivot_row, :] /= pivot_value\n",
        "\n",
        "# Step 3: Make all other elements in the pivot column (last column) equal to 0\n",
        "for row in range(m+2):  # Go through all rows (including the pivot row itself)\n",
        "    if row != pivot_row:\n",
        "        factor = augmented_matrix[row, -1]\n",
        "        augmented_matrix[row, :] -= factor * augmented_matrix[pivot_row, :]\n",
        "\n",
        "# Display the augmented matrix after row operations\n",
        "augmented_matrix\n"
      ],
      "metadata": {
        "colab": {
          "base_uri": "https://localhost:8080/"
        },
        "id": "dCwXrTXlx1YN",
        "outputId": "abc03926-0521-4afd-d04e-953d0dcb0487"
      },
      "execution_count": 153,
      "outputs": [
        {
          "output_type": "execute_result",
          "data": {
            "text/plain": [
              "array([[-3.85714286,  0.        , -0.42857143, -0.14285714,  0.        ],\n",
              "       [ 0.        ,  1.        ,  1.        ,  1.        ,  0.        ],\n",
              "       [ 3.14285714,  0.        ,  0.57142857, -0.14285714,  1.        ],\n",
              "       [ 0.71428571,  0.        , -0.14285714,  0.28571429,  0.        ]])"
            ]
          },
          "metadata": {},
          "execution_count": 153
        }
      ]
    },
    {
      "cell_type": "code",
      "source": [
        "nonBASIC[:,1] = augmented_matrix[:, 4]\n",
        "nonBASIC"
      ],
      "metadata": {
        "colab": {
          "base_uri": "https://localhost:8080/"
        },
        "id": "Mpt71Sc0eCKM",
        "outputId": "e9e667c2-638c-4c98-95d5-2d5cb4065ef9"
      },
      "execution_count": 154,
      "outputs": [
        {
          "output_type": "execute_result",
          "data": {
            "text/plain": [
              "array([[ 0.,  0.,  0.,  0.],\n",
              "       [ 0.,  0.,  1.,  1.],\n",
              "       [ 0.,  1., -1., -0.],\n",
              "       [ 1.,  0., -0., -1.]])"
            ]
          },
          "metadata": {},
          "execution_count": 154
        }
      ]
    },
    {
      "cell_type": "code",
      "source": [
        "b = augmented_matrix[:,0]\n",
        "b"
      ],
      "metadata": {
        "colab": {
          "base_uri": "https://localhost:8080/"
        },
        "id": "3ZfA16q1qGz5",
        "outputId": "bc97ef13-646c-4d60-801f-4e7b0ef28a55"
      },
      "execution_count": 155,
      "outputs": [
        {
          "output_type": "execute_result",
          "data": {
            "text/plain": [
              "array([-3.85714286,  0.        ,  3.14285714,  0.71428571])"
            ]
          },
          "metadata": {},
          "execution_count": 155
        }
      ]
    },
    {
      "cell_type": "code",
      "source": [
        "if (b[1]==0):\n",
        "  print(\"Phase 1 ended\")\n",
        "elif((b[1]!=0)and((np.delete(augmented_matrix[1], 0))>= 0).all()):\n",
        "  print(\"infeasible solution\")\n",
        "else:\n",
        "  print(\"Phase 1 still iterating\")"
      ],
      "metadata": {
        "colab": {
          "base_uri": "https://localhost:8080/"
        },
        "id": "6lKB6k9Gz4um",
        "outputId": "50b44053-244f-48b1-ff9e-3d95b871b6f5"
      },
      "execution_count": 156,
      "outputs": [
        {
          "output_type": "stream",
          "name": "stdout",
          "text": [
            "Phase 1 ended\n"
          ]
        }
      ]
    },
    {
      "cell_type": "code",
      "source": [
        "####phase 2"
      ],
      "metadata": {
        "id": "YjznUoO2kV8h"
      },
      "execution_count": 157,
      "outputs": []
    },
    {
      "cell_type": "code",
      "source": [
        "# remove artificial variables\n",
        "nonBASIC = nonBASIC[:, 2:]\n",
        "nonBASIC"
      ],
      "metadata": {
        "colab": {
          "base_uri": "https://localhost:8080/"
        },
        "id": "nlaKgEVbkaU5",
        "outputId": "1521543b-18c9-416e-f1bd-a75010f1edc4"
      },
      "execution_count": 158,
      "outputs": [
        {
          "output_type": "execute_result",
          "data": {
            "text/plain": [
              "array([[ 0.,  0.],\n",
              "       [ 1.,  1.],\n",
              "       [-1., -0.],\n",
              "       [-0., -1.]])"
            ]
          },
          "metadata": {},
          "execution_count": 158
        }
      ]
    },
    {
      "cell_type": "code",
      "source": [
        "b = np.delete(b, 1)\n",
        "b"
      ],
      "metadata": {
        "colab": {
          "base_uri": "https://localhost:8080/"
        },
        "id": "t4Pvciunq3m2",
        "outputId": "0b16e4bc-cc5e-48d9-d0d5-66675c402de4"
      },
      "execution_count": 159,
      "outputs": [
        {
          "output_type": "execute_result",
          "data": {
            "text/plain": [
              "array([-3.85714286,  3.14285714,  0.71428571])"
            ]
          },
          "metadata": {},
          "execution_count": 159
        }
      ]
    },
    {
      "cell_type": "code",
      "source": [
        "# update B inverse\n",
        "B_inverse[:, 1:4] = augmented_matrix[:, 1:4]\n",
        "\n",
        "B_inverse\n"
      ],
      "metadata": {
        "colab": {
          "base_uri": "https://localhost:8080/"
        },
        "id": "QUCyvcAZmCas",
        "outputId": "87069d7d-1728-4236-99bb-853a3bb17354"
      },
      "execution_count": 160,
      "outputs": [
        {
          "output_type": "execute_result",
          "data": {
            "text/plain": [
              "array([[ 1.        ,  0.        , -0.42857143, -0.14285714],\n",
              "       [ 0.        ,  1.        ,  1.        ,  1.        ],\n",
              "       [ 0.        ,  0.        ,  0.57142857, -0.14285714],\n",
              "       [ 0.        ,  0.        , -0.14285714,  0.28571429]])"
            ]
          },
          "metadata": {},
          "execution_count": 160
        }
      ]
    },
    {
      "cell_type": "code",
      "source": [
        "#remove the z row\n",
        "B_inverse = np.delete(B_inverse, 1, axis=0)\n",
        "B_inverse"
      ],
      "metadata": {
        "colab": {
          "base_uri": "https://localhost:8080/"
        },
        "id": "pdzFcx_VmVzE",
        "outputId": "6f11ee5b-5c8b-4004-93ec-1dc21648711c"
      },
      "execution_count": 161,
      "outputs": [
        {
          "output_type": "execute_result",
          "data": {
            "text/plain": [
              "array([[ 1.        ,  0.        , -0.42857143, -0.14285714],\n",
              "       [ 0.        ,  0.        ,  0.57142857, -0.14285714],\n",
              "       [ 0.        ,  0.        , -0.14285714,  0.28571429]])"
            ]
          },
          "metadata": {},
          "execution_count": 161
        }
      ]
    },
    {
      "cell_type": "code",
      "source": [
        "result = B_inverse[0, :] @ nonBASIC\n",
        "result\n",
        "if np.all(result >= 0):\n",
        "  print(\"optimum found\")\n",
        "  print(\"optimum at \",b[0])\n"
      ],
      "metadata": {
        "colab": {
          "base_uri": "https://localhost:8080/"
        },
        "id": "FxPfoBfEkzuZ",
        "outputId": "4007a61c-98d5-4c66-be57-22c6f1406f26"
      },
      "execution_count": 162,
      "outputs": [
        {
          "output_type": "stream",
          "name": "stdout",
          "text": [
            "optimum found\n",
            "optimum at  -3.857142857142857\n"
          ]
        }
      ]
    },
    {
      "cell_type": "code",
      "source": [
        "from scipy.optimize import linprog\n",
        "\n",
        "c = np.array([-1, -1])\n",
        "\n",
        "\n",
        "A = np.array([\n",
        "    [1, 2],\n",
        "    [4, 1]\n",
        "])\n",
        "b = np.array([7, 6])\n",
        "\n",
        "variable_bounds = [(0, None), (0, None)]\n",
        "result = linprog(c, A_ub=A, b_ub=b, bounds=variable_bounds, method=\"revised simplex\")\n",
        "\n",
        "print('Test for example Built in',result)"
      ],
      "metadata": {
        "colab": {
          "base_uri": "https://localhost:8080/"
        },
        "id": "LysQwZZpWBVC",
        "outputId": "4fde5228-9ce5-4dae-b09d-0c4db2291e41"
      },
      "execution_count": 164,
      "outputs": [
        {
          "output_type": "stream",
          "name": "stdout",
          "text": [
            "Test for example Built in  message: Optimization terminated successfully.\n",
            " success: True\n",
            "  status: 0\n",
            "     fun: -3.857142857142857\n",
            "       x: [ 7.143e-01  3.143e+00]\n",
            "     nit: 2\n"
          ]
        },
        {
          "output_type": "stream",
          "name": "stderr",
          "text": [
            "<ipython-input-164-c4575e10578f>:13: DeprecationWarning: `method='revised simplex'` is deprecated and will be removed in SciPy 1.11.0. Please use one of the HiGHS solvers (e.g. `method='highs'`) in new code.\n",
            "  result = linprog(c, A_ub=A, b_ub=b, bounds=variable_bounds, method=\"revised simplex\")\n"
          ]
        }
      ]
    },
    {
      "cell_type": "code",
      "source": [
        "###################################################################################################3"
      ],
      "metadata": {
        "id": "clIgSgBKBQWG"
      },
      "execution_count": null,
      "outputs": []
    }
  ]
}